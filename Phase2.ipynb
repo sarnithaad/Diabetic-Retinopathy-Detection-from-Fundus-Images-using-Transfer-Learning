{
 "cells": [
  {
   "cell_type": "code",
   "execution_count": 1,
   "id": "53aa44c7-988b-4d4b-886e-1857812740dd",
   "metadata": {},
   "outputs": [],
   "source": [
    "import os\n",
    "import pathlib\n",
    "import numpy as np\n",
    "import seaborn as sns\n",
    "import matplotlib.pyplot as plt\n",
    "import matplotlib.image as mpimg\n",
    "import splitfolders\n",
    "import tensorflow as tf\n",
    "from tensorflow import keras\n",
    "from tensorflow.keras import mixed_precision\n",
    "from tensorflow.keras.preprocessing import image\n",
    "from tensorflow.keras.preprocessing.image import ImageDataGenerator\n",
    "from tensorflow.keras.models import Model, load_model\n",
    "from tensorflow.keras.layers import GlobalAveragePooling2D, Dense, Dropout, Activation, Input, Average\n",
    "from tensorflow.keras.applications import DenseNet121, ResNet50, EfficientNetB0\n",
    "from sklearn.metrics import classification_report, confusion_matrix\n"
   ]
  },
  {
   "cell_type": "code",
   "execution_count": 2,
   "id": "f051506b-1d11-48eb-add4-a938032e772b",
   "metadata": {},
   "outputs": [
    {
     "name": "stderr",
     "output_type": "stream",
     "text": [
      "Copying files: 2899 files [00:08, 345.43 files/s]\n"
     ]
    }
   ],
   "source": [
    "splitfolders.ratio(r\"C:\\Users\\A D SARNITHA\\OneDrive\\Documents\\Project\\FYP phase1\\Review 1\\Diabeties-Detection-CNN-main\\dataset\", output=\"Output\",\n",
    "    seed=1337, ratio=(.75, .2, .05), group_prefix=None, move=False)\n"
   ]
  },
  {
   "cell_type": "code",
   "execution_count": 3,
   "id": "ee094b55-0b6f-48c3-8f3d-bb3f3d6b1ed4",
   "metadata": {},
   "outputs": [],
   "source": [
    "# Directories\n",
    "data_dir = pathlib.Path('Output/')\n",
    "train_dir = 'Output/train'\n",
    "val_dir = 'Output/val'\n",
    "test_dir = 'Output/test'\n"
   ]
  },
  {
   "cell_type": "code",
   "execution_count": 4,
   "id": "0174e203-3cec-4bb0-88c2-2644489fc154",
   "metadata": {},
   "outputs": [
    {
     "name": "stdout",
     "output_type": "stream",
     "text": [
      "Found 2173 images belonging to 5 classes.\n",
      "Found 578 images belonging to 5 classes.\n",
      "Found 148 images belonging to 5 classes.\n"
     ]
    }
   ],
   "source": [
    "# Data Generators\n",
    "train_datagen = ImageDataGenerator(rescale=1/255.0, rotation_range=0.2, zoom_range=0.2, width_shift_range=0.2, \n",
    "                                   height_shift_range=0.2, vertical_flip=True, horizontal_flip=True)\n",
    "valid_datagen = ImageDataGenerator(rescale=1/255.0)\n",
    "test_datagen = ImageDataGenerator(rescale=1/255.0)\n",
    "\n",
    "train_data = train_datagen.flow_from_directory(train_dir, batch_size=32, target_size=(224, 224), class_mode='categorical', shuffle=True)\n",
    "valid_data = valid_datagen.flow_from_directory(val_dir, batch_size=32, target_size=(224, 224), class_mode='categorical', shuffle=False)\n",
    "test_data = test_datagen.flow_from_directory(test_dir, batch_size=32, target_size=(224, 224), class_mode='categorical', shuffle=False)\n"
   ]
  },
  {
   "cell_type": "code",
   "execution_count": 5,
   "id": "a7c91854-07f3-401b-9bbc-6d361d16fbfa",
   "metadata": {},
   "outputs": [],
   "source": [
    "# Load Base Models\n",
    "base_model1 = DenseNet121(input_shape=(224, 224, 3), include_top=False, weights='imagenet')\n",
    "base_model2 = ResNet50(input_shape=(224, 224, 3), include_top=False, weights='imagenet')\n",
    "base_model3 = EfficientNetB0(input_shape=(224, 224, 3), include_top=False, weights='imagenet')\n",
    "\n",
    "for model in [base_model1, base_model2, base_model3]:\n",
    "    model.trainable = False\n"
   ]
  },
  {
   "cell_type": "code",
   "execution_count": 6,
   "id": "1519d384-887d-40c5-b2c6-5a503f3bf8d6",
   "metadata": {},
   "outputs": [],
   "source": [
    "# Model Inputs\n",
    "inputs = Input(shape=(224, 224, 3))"
   ]
  },
  {
   "cell_type": "code",
   "execution_count": 7,
   "id": "e1632e08-8ed9-45bc-ba11-7fd044ffcfa8",
   "metadata": {},
   "outputs": [],
   "source": [
    "# Feature Extraction\n",
    "x1 = base_model1(inputs, training=False)\n",
    "x1 = GlobalAveragePooling2D()(x1)\n",
    "x1 = Dense(1024, activation='relu')(x1)  # Align to 1024\n",
    "\n",
    "x2 = base_model2(inputs, training=False)\n",
    "x2 = GlobalAveragePooling2D()(x2)\n",
    "x2 = Dense(1024, activation='relu')(x2)  # Align to 1024\n",
    "\n",
    "x3 = base_model3(inputs, training=False)\n",
    "x3 = GlobalAveragePooling2D()(x3)\n",
    "x3 = Dense(1024, activation='relu')(x3)  # Align to 1024\n",
    "\n",
    "# Merge Outputs\n",
    "merged = Average()([x1, x2, x3])\n",
    "dropout = Dropout(0.25)(merged)\n",
    "predictions = Dense(5, activation='softmax')(dropout)\n"
   ]
  },
  {
   "cell_type": "code",
   "execution_count": 8,
   "id": "8544aad6-adc6-4dd2-96dd-7ec459ec61a2",
   "metadata": {},
   "outputs": [],
   "source": [
    "mixed_precision.set_global_policy('mixed_float16')\n"
   ]
  },
  {
   "cell_type": "code",
   "execution_count": null,
   "id": "264f88c9-74cd-43f4-afa4-4e40e50ad8d2",
   "metadata": {},
   "outputs": [
    {
     "name": "stderr",
     "output_type": "stream",
     "text": [
      "C:\\Users\\A D SARNITHA\\anaconda3\\Lib\\site-packages\\keras\\src\\trainers\\data_adapters\\py_dataset_adapter.py:121: UserWarning: Your `PyDataset` class should call `super().__init__(**kwargs)` in its constructor. `**kwargs` can include `workers`, `use_multiprocessing`, `max_queue_size`. Do not pass these arguments to `fit()`, as they will be ignored.\n",
      "  self._warn_if_super_not_called()\n"
     ]
    },
    {
     "name": "stdout",
     "output_type": "stream",
     "text": [
      "Epoch 1/10\n",
      "\u001b[1m11/68\u001b[0m \u001b[32m━━━\u001b[0m\u001b[37m━━━━━━━━━━━━━━━━━\u001b[0m \u001b[1m4:30\u001b[0m 5s/step - accuracy: 0.1915 - loss: 2.2831"
     ]
    }
   ],
   "source": [
    "# Define Model\n",
    "ensemble_model = Model(inputs, predictions)\n",
    "ensemble_model.compile(loss='categorical_crossentropy', optimizer='adam', metrics=['accuracy'])\n",
    "\n",
    "# Train the Model\n",
    "history = ensemble_model.fit(train_data, epochs=10, validation_data=valid_data)\n"
   ]
  },
  {
   "cell_type": "code",
   "execution_count": null,
   "id": "c8700305-c7e2-4518-9535-8bc1dde441f3",
   "metadata": {},
   "outputs": [],
   "source": [
    "# Evaluate on Test Data\n",
    "test_pred = ensemble_model.predict(test_data)\n",
    "test_pred_labels = np.argmax(test_pred, axis=1)\n",
    "\n",
    "# Print Classification Report\n",
    "true_labels = test_data.classes\n",
    "print(classification_report(true_labels, test_pred_labels))\n"
   ]
  },
  {
   "cell_type": "code",
   "execution_count": null,
   "id": "ca382cd9-d6ec-44fb-9f0e-1ec2fe4e1731",
   "metadata": {},
   "outputs": [],
   "source": [
    "# Confusion Matrix\n",
    "cfm_test = confusion_matrix(true_labels, test_pred_labels)\n",
    "sns.heatmap(cfm_test, annot=True, cmap='Blues')\n",
    "plt.xlabel('Predicted Labels')\n",
    "plt.ylabel('True Labels')\n",
    "plt.title('Confusion Matrix')\n",
    "plt.show()\n"
   ]
  },
  {
   "cell_type": "code",
   "execution_count": null,
   "id": "9fe011a2-d912-47e2-a484-fb2e410c4b1c",
   "metadata": {},
   "outputs": [],
   "source": [
    "# Save Model\n",
    "ensemble_model.save('ensemble_model.keras')\n"
   ]
  },
  {
   "cell_type": "code",
   "execution_count": null,
   "id": "6507003f-e3e7-4087-a0ed-33b3c51ef03f",
   "metadata": {},
   "outputs": [],
   "source": [
    "# Load and Predict on a New Image\n",
    "def predict_image(image_path, model):\n",
    "    img = image.load_img(image_path, target_size=(224, 224))\n",
    "    img_array = np.array(img) / 255.0\n",
    "    img_array = img_array.reshape(1, 224, 224, 3)\n",
    "    \n",
    "    label = model.predict(img_array)\n",
    "    class_names = ['Mild', 'Moderate', 'No_DR', 'Proliferate_DR', 'Severe']\n",
    "    predicted_class_index = np.argmax(label)\n",
    "    predicted_class = class_names[predicted_class_index]\n",
    "    \n",
    "    plt.imshow(img)\n",
    "    plt.title(predicted_class)\n",
    "    plt.axis('off')\n",
    "    plt.show()\n",
    "    \n",
    "    return predicted_class"
   ]
  },
  {
   "cell_type": "code",
   "execution_count": null,
   "id": "0dd7bc69-9d6a-493c-8a18-536011e5d1db",
   "metadata": {},
   "outputs": [],
   "source": [
    "# Example Usage\n",
    "model = load_model('ensemble_model.keras')\n",
    "image_path = r\"C:\\Users\\A D SARNITHA\\OneDrive\\Documents\\Project\\FYP phase1\\Review 1\\Diabeties-Detection-CNN-main\\output\\test\\Severe\\c0a0828e01b4.png\"  # Replace with actual image path\n",
    "predicted_class = predict_image(image_path, model)\n",
    "print(\"Predicted Class:\", predicted_class)\n"
   ]
  },
  {
   "cell_type": "code",
   "execution_count": null,
   "id": "3d9c3719-9477-4dbf-83d4-e9ff0e392cf2",
   "metadata": {},
   "outputs": [],
   "source": []
  }
 ],
 "metadata": {
  "kernelspec": {
   "display_name": "Python 3 (ipykernel)",
   "language": "python",
   "name": "python3"
  },
  "language_info": {
   "codemirror_mode": {
    "name": "ipython",
    "version": 3
   },
   "file_extension": ".py",
   "mimetype": "text/x-python",
   "name": "python",
   "nbconvert_exporter": "python",
   "pygments_lexer": "ipython3",
   "version": "3.12.7"
  }
 },
 "nbformat": 4,
 "nbformat_minor": 5
}
